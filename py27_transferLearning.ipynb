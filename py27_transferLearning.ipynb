{
 "cells": [
  {
   "cell_type": "markdown",
   "id": "6003bc28",
   "metadata": {},
   "source": [
    "# Settings"
   ]
  },
  {
   "cell_type": "markdown",
   "id": "4a4faca2",
   "metadata": {},
   "source": [
    "## 1) Important required libraries"
   ]
  },
  {
   "cell_type": "code",
   "execution_count": 1,
   "id": "d139523e",
   "metadata": {},
   "outputs": [],
   "source": [
    "import numpy as np\n",
    "import torch\n",
    "import torch.nn as nn\n",
    "import torch.optim as optim\n",
    "import torch.nn.init as init\n",
    "import torch.utils.data as data\n",
    "import torchvision.datasets as dset\n",
    "import torchvision.models as models\n",
    "import torchvision.transforms as transforms\n",
    "from torch.utils.data import DataLoader\n",
    "from torch.autograd import Variable\n",
    "import time\n",
    "import matplotlib.pyplot as plt\n",
    "import utils"
   ]
  },
  {
   "cell_type": "markdown",
   "id": "ed6de05c",
   "metadata": {},
   "source": [
    "# 2) Hyperparameter"
   ]
  },
  {
   "cell_type": "code",
   "execution_count": 2,
   "id": "b6c17fc6",
   "metadata": {},
   "outputs": [],
   "source": [
    "batch_size= 2 #64 #1\n",
    "learning_rate = 0.0001\n",
    "epoch = 20\n",
    "\n",
    "n_node = 1024 # customized last layer 의 노드 수. 64, 128, 256, 512, 1024\n",
    "dropratio = 0.5 # 얼마나 드랍시킬지 inverse keepratio\n",
    "\n",
    "imgsize = 256"
   ]
  },
  {
   "cell_type": "markdown",
   "id": "df8c014d",
   "metadata": {},
   "source": [
    "# 2. Data Loader"
   ]
  },
  {
   "cell_type": "markdown",
   "id": "daad8df5",
   "metadata": {},
   "source": [
    "## 트레이닝 데이터"
   ]
  },
  {
   "cell_type": "code",
   "execution_count": 3,
   "id": "6f611fbf",
   "metadata": {},
   "outputs": [
    {
     "name": "stdout",
     "output_type": "stream",
     "text": [
      "72\n"
     ]
    }
   ],
   "source": [
    "img_dir = \"fashion/train\"\n",
    "train_data = dset.ImageFolder(img_dir, transforms.Compose([\n",
    "            transforms.CenterCrop(imgsize*2),    #CenterCrop(512)\n",
    "            transforms.RandomCrop(imgsize),      #RandomCrop\n",
    "            transforms.RandomHorizontalFlip(),   #RandomHorizontalFlip\n",
    "            \n",
    "            transforms.Resize(imgsize),\n",
    "            transforms.ToTensor()\n",
    "            ]))\n",
    "print(train_data.__len__())\n",
    "\n",
    "train_batch = data.DataLoader(train_data, batch_size=batch_size,\n",
    "                             shuffle=True, num_workers=2)"
   ]
  },
  {
   "cell_type": "markdown",
   "id": "12b773e5",
   "metadata": {},
   "source": [
    "## 고정된 데이터 셋"
   ]
  },
  {
   "cell_type": "code",
   "execution_count": 4,
   "id": "78a7c9a1",
   "metadata": {},
   "outputs": [],
   "source": [
    "# 2. Dev data\n",
    "img_dir = \"fashion/val\"\n",
    "dev_data = dset.ImageFolder(img_dir, transforms.Compose([\n",
    "            #transforms.Scale(256)\n",
    "            #transforms.RandomSizedCrop(224),\n",
    "    \n",
    "            transforms.CenterCrop(size=imgsize),    \n",
    "            transforms.Resize(imgsize),\n",
    "            transforms.ToTensor()\n",
    "            ]))\n",
    "\n",
    "dev_batch = data.DataLoader(dev_data, batch_size=batch_size,\n",
    "                             shuffle=False, num_workers=2)"
   ]
  },
  {
   "cell_type": "code",
   "execution_count": 5,
   "id": "8fb35a30",
   "metadata": {},
   "outputs": [
    {
     "name": "stdout",
     "output_type": "stream",
     "text": [
      "# of classes: 3\n",
      "['cap', 'shoes', 'top']\n",
      "{'top': 2, 'cap': 0, 'shoes': 1}\n",
      "72\n",
      "Training: 72, Dev: 30, Test: 31\n"
     ]
    }
   ],
   "source": [
    "#3. Test data\n",
    "img_dir = \"fashion/test\"\n",
    "test_data = dset.ImageFolder(img_dir, transforms.Compose([\n",
    "            #transforms.Scale(256)\n",
    "            #transforms.RandomSizedCrop(224),\n",
    "    \n",
    "            transforms.CenterCrop(size=imgsize),    \n",
    "            transforms.Resize(imgsize),\n",
    "            transforms.ToTensor()\n",
    "            ]))\n",
    "\n",
    "\n",
    "test_batch = data.DataLoader(test_data, batch_size=batch_size,\n",
    "                             shuffle=False, num_workers=2)\n",
    "nclass = len(train_data.classes)\n",
    "print(\"# of classes: %d\" %nclass)\n",
    "print(train_data.classes)\n",
    "print(train_data.class_to_idx)\n",
    "print(train_data.__len__())\n",
    "\n",
    "print(\"Training: %d, Dev: %d, Test: %d\"\n",
    "      %(train_data.__len__(), dev_data.__len__(), test_data.__len__())),\n",
    "\n",
    "#for imgs, labels in train_batch:\n",
    "#      for j in range(len(imgs)):\n",
    "#         img = transforms.ToPILImage()(imgs[j])\n",
    "#         plt.title(\"label: %d\" % labels[j])\n",
    "#         plt.imshow(img)\n",
    "#         plt.show()"
   ]
  },
  {
   "cell_type": "code",
   "execution_count": 6,
   "id": "cabcc702",
   "metadata": {},
   "outputs": [
    {
     "name": "stdout",
     "output_type": "stream",
     "text": [
      "['cap', 'shoes', 'top']\n",
      "['cap', 'shoes', 'top']\n",
      "['cap', 'shoes', 'top']\n"
     ]
    }
   ],
   "source": [
    "print(train_data.classes)\n",
    "print(dev_data.classes)\n",
    "print(test_data.classes)"
   ]
  },
  {
   "cell_type": "markdown",
   "id": "980a31f5",
   "metadata": {},
   "source": [
    "# 3. Model"
   ]
  },
  {
   "cell_type": "markdown",
   "id": "8b195e3e",
   "metadata": {},
   "source": [
    "## 1. Pretrained VGG Model"
   ]
  },
  {
   "cell_type": "code",
   "execution_count": 7,
   "id": "cddf67ac",
   "metadata": {},
   "outputs": [
    {
     "name": "stderr",
     "output_type": "stream",
     "text": [
      "Downloading: \"https://download.pytorch.org/models/vgg19-dcbb9e9d.pth\" to /home/ec2-user/.cache/torch/checkpoints/vgg19-dcbb9e9d.pth\n"
     ]
    },
    {
     "data": {
      "application/vnd.jupyter.widget-view+json": {
       "model_id": "5ec4ac648dd74f3fabfa81aa1e9f5353",
       "version_major": 2,
       "version_minor": 0
      },
      "text/plain": [
       "HBox(children=(IntProgress(value=0, max=574673361), HTML(value=u'')))"
      ]
     },
     "metadata": {},
     "output_type": "display_data"
    },
    {
     "name": "stdout",
     "output_type": "stream",
     "text": [
      "\n",
      "features\n",
      "avgpool\n",
      "classifier\n",
      "Sequential(\n",
      "  (0): Conv2d(3, 64, kernel_size=(3, 3), stride=(1, 1), padding=(1, 1))\n",
      "  (1): ReLU(inplace=True)\n",
      "  (2): Conv2d(64, 64, kernel_size=(3, 3), stride=(1, 1), padding=(1, 1))\n",
      "  (3): ReLU(inplace=True)\n",
      "  (4): MaxPool2d(kernel_size=2, stride=2, padding=0, dilation=1, ceil_mode=False)\n",
      "  (5): Conv2d(64, 128, kernel_size=(3, 3), stride=(1, 1), padding=(1, 1))\n",
      "  (6): ReLU(inplace=True)\n",
      "  (7): Conv2d(128, 128, kernel_size=(3, 3), stride=(1, 1), padding=(1, 1))\n",
      "  (8): ReLU(inplace=True)\n",
      "  (9): MaxPool2d(kernel_size=2, stride=2, padding=0, dilation=1, ceil_mode=False)\n",
      "  (10): Conv2d(128, 256, kernel_size=(3, 3), stride=(1, 1), padding=(1, 1))\n",
      "  (11): ReLU(inplace=True)\n",
      "  (12): Conv2d(256, 256, kernel_size=(3, 3), stride=(1, 1), padding=(1, 1))\n",
      "  (13): ReLU(inplace=True)\n",
      "  (14): Conv2d(256, 256, kernel_size=(3, 3), stride=(1, 1), padding=(1, 1))\n",
      "  (15): ReLU(inplace=True)\n",
      "  (16): Conv2d(256, 256, kernel_size=(3, 3), stride=(1, 1), padding=(1, 1))\n",
      "  (17): ReLU(inplace=True)\n",
      "  (18): MaxPool2d(kernel_size=2, stride=2, padding=0, dilation=1, ceil_mode=False)\n",
      "  (19): Conv2d(256, 512, kernel_size=(3, 3), stride=(1, 1), padding=(1, 1))\n",
      "  (20): ReLU(inplace=True)\n",
      "  (21): Conv2d(512, 512, kernel_size=(3, 3), stride=(1, 1), padding=(1, 1))\n",
      "  (22): ReLU(inplace=True)\n",
      "  (23): Conv2d(512, 512, kernel_size=(3, 3), stride=(1, 1), padding=(1, 1))\n",
      "  (24): ReLU(inplace=True)\n",
      "  (25): Conv2d(512, 512, kernel_size=(3, 3), stride=(1, 1), padding=(1, 1))\n",
      "  (26): ReLU(inplace=True)\n",
      "  (27): MaxPool2d(kernel_size=2, stride=2, padding=0, dilation=1, ceil_mode=False)\n",
      "  (28): Conv2d(512, 512, kernel_size=(3, 3), stride=(1, 1), padding=(1, 1))\n",
      "  (29): ReLU(inplace=True)\n",
      "  (30): Conv2d(512, 512, kernel_size=(3, 3), stride=(1, 1), padding=(1, 1))\n",
      "  (31): ReLU(inplace=True)\n",
      "  (32): Conv2d(512, 512, kernel_size=(3, 3), stride=(1, 1), padding=(1, 1))\n",
      "  (33): ReLU(inplace=True)\n",
      "  (34): Conv2d(512, 512, kernel_size=(3, 3), stride=(1, 1), padding=(1, 1))\n",
      "  (35): ReLU(inplace=True)\n",
      "  (36): MaxPool2d(kernel_size=2, stride=2, padding=0, dilation=1, ceil_mode=False)\n",
      ")\n",
      "Sequential(\n",
      "  (0): Linear(in_features=25088, out_features=4096, bias=True)\n",
      "  (1): ReLU(inplace=True)\n",
      "  (2): Dropout(p=0.5, inplace=False)\n",
      "  (3): Linear(in_features=4096, out_features=4096, bias=True)\n",
      "  (4): ReLU(inplace=True)\n",
      "  (5): Dropout(p=0.5, inplace=False)\n",
      "  (6): Linear(in_features=4096, out_features=1000, bias=True)\n",
      ")\n"
     ]
    }
   ],
   "source": [
    "vgg = models.vgg19(pretrained=True)\n",
    "\n",
    "for name,module in vgg.named_children():\n",
    "    print(name)\n",
    "    \n",
    "print(list(vgg.children())[0])\n",
    "print(list(vgg.children())[-1])"
   ]
  },
  {
   "cell_type": "code",
   "execution_count": 8,
   "id": "5426b148",
   "metadata": {},
   "outputs": [
    {
     "name": "stdout",
     "output_type": "stream",
     "text": [
      "Conv2d(3, 64, kernel_size=(3, 3), stride=(1, 1), padding=(1, 1))\n"
     ]
    }
   ],
   "source": [
    "print(list(vgg.children())[0][0])"
   ]
  },
  {
   "cell_type": "markdown",
   "id": "fc8b9844",
   "metadata": {},
   "source": [
    "## 2) Customized Fully Model"
   ]
  },
  {
   "cell_type": "code",
   "execution_count": 9,
   "id": "8bd8262d",
   "metadata": {},
   "outputs": [],
   "source": [
    "base_dim = 64\n",
    "fsize = imgsize/32\n",
    "\n",
    "class MyVGG(nn.Module):\n",
    "    def __init__(self):\n",
    "        super(MyVGG, self).__init__()\n",
    "        #[0]: features(conv), [1]:classifier(fc)\n",
    "        self.layer0 = nn.Sequential(*list(vgg.children())[0])\n",
    "        \n",
    "        self.layer1 = nn.Sequential(\n",
    "            nn.Linear(8*base_dim * fsize * fsize, n_node),\n",
    "            nn.BatchNorm1d(n_node),\n",
    "            nn.ReLU(),\n",
    "            nn.Dropout2d(dropratio),\n",
    "        \n",
    "            nn.Linear(n_node, n_node),\n",
    "            nn.BatchNorm1d(n_node),\n",
    "            nn.ReLU(),\n",
    "            nn.Dropout2d(dropratio),\n",
    "        \n",
    "            nn.Linear(n_node, n_node),\n",
    "            nn.BatchNorm1d(n_node),\n",
    "            nn.ReLU(),\n",
    "            nn.Dropout2d(dropratio),\n",
    "            \n",
    "            nn.Linear(n_node, nclass),\n",
    "        )\n",
    "        \n",
    "        #weight initialization\n",
    "        for m in self.layer1.modules():\n",
    "            #pirnt(m)\n",
    "            if isinstance(m, nn.Conv2d):\n",
    "                init.kaiming_normal(m.weight.data)  #REUL 일 때\n",
    "                m.bias.data.fill_(0)\n",
    "            if isinstance(m, nn.Linear):\n",
    "                init.kaiming_normal(m.weight.data)  \n",
    "                m.bias.data.fill_(0)\n",
    "    def forward(self, x):\n",
    "        #layer0의 사이즈를 무식하게 프린트하여 알아낼 수 있음\n",
    "        #print(x.size())\n",
    "        out = self.layer0(x)\n",
    "        out = out.view(out.size(0), -1)\n",
    "        out = self.layer1(out)\n",
    "        return out"
   ]
  },
  {
   "cell_type": "markdown",
   "id": "adc9c6c6",
   "metadata": {},
   "source": [
    "## 3) Model on GPU"
   ]
  },
  {
   "cell_type": "code",
   "execution_count": 10,
   "id": "2ae8bfe1",
   "metadata": {},
   "outputs": [
    {
     "name": "stderr",
     "output_type": "stream",
     "text": [
      "/home/ec2-user/anaconda3/envs/pytorch_p27/lib/python2.7/site-packages/ipykernel/__main__.py:36: UserWarning: nn.init.kaiming_normal is now deprecated in favor of nn.init.kaiming_normal_.\n"
     ]
    }
   ],
   "source": [
    "model = MyVGG()\n",
    "for params in model.layer0.parameters():\n",
    "    params.required_grad = False\n",
    "\n",
    "for params in model.layer1.parameters():\n",
    "    params.required_grad = True"
   ]
  },
  {
   "cell_type": "code",
   "execution_count": 11,
   "id": "ae9f6bac",
   "metadata": {},
   "outputs": [
    {
     "name": "stdout",
     "output_type": "stream",
     "text": [
      "Sequential(\n",
      "  (0): Conv2d(3, 64, kernel_size=(3, 3), stride=(1, 1), padding=(1, 1))\n",
      "  (1): ReLU(inplace=True)\n",
      "  (2): Conv2d(64, 64, kernel_size=(3, 3), stride=(1, 1), padding=(1, 1))\n",
      "  (3): ReLU(inplace=True)\n",
      "  (4): MaxPool2d(kernel_size=2, stride=2, padding=0, dilation=1, ceil_mode=False)\n",
      "  (5): Conv2d(64, 128, kernel_size=(3, 3), stride=(1, 1), padding=(1, 1))\n",
      "  (6): ReLU(inplace=True)\n",
      "  (7): Conv2d(128, 128, kernel_size=(3, 3), stride=(1, 1), padding=(1, 1))\n",
      "  (8): ReLU(inplace=True)\n",
      "  (9): MaxPool2d(kernel_size=2, stride=2, padding=0, dilation=1, ceil_mode=False)\n",
      "  (10): Conv2d(128, 256, kernel_size=(3, 3), stride=(1, 1), padding=(1, 1))\n",
      "  (11): ReLU(inplace=True)\n",
      "  (12): Conv2d(256, 256, kernel_size=(3, 3), stride=(1, 1), padding=(1, 1))\n",
      "  (13): ReLU(inplace=True)\n",
      "  (14): Conv2d(256, 256, kernel_size=(3, 3), stride=(1, 1), padding=(1, 1))\n",
      "  (15): ReLU(inplace=True)\n",
      "  (16): Conv2d(256, 256, kernel_size=(3, 3), stride=(1, 1), padding=(1, 1))\n",
      "  (17): ReLU(inplace=True)\n",
      "  (18): MaxPool2d(kernel_size=2, stride=2, padding=0, dilation=1, ceil_mode=False)\n",
      "  (19): Conv2d(256, 512, kernel_size=(3, 3), stride=(1, 1), padding=(1, 1))\n",
      "  (20): ReLU(inplace=True)\n",
      "  (21): Conv2d(512, 512, kernel_size=(3, 3), stride=(1, 1), padding=(1, 1))\n",
      "  (22): ReLU(inplace=True)\n",
      "  (23): Conv2d(512, 512, kernel_size=(3, 3), stride=(1, 1), padding=(1, 1))\n",
      "  (24): ReLU(inplace=True)\n",
      "  (25): Conv2d(512, 512, kernel_size=(3, 3), stride=(1, 1), padding=(1, 1))\n",
      "  (26): ReLU(inplace=True)\n",
      "  (27): MaxPool2d(kernel_size=2, stride=2, padding=0, dilation=1, ceil_mode=False)\n",
      "  (28): Conv2d(512, 512, kernel_size=(3, 3), stride=(1, 1), padding=(1, 1))\n",
      "  (29): ReLU(inplace=True)\n",
      "  (30): Conv2d(512, 512, kernel_size=(3, 3), stride=(1, 1), padding=(1, 1))\n",
      "  (31): ReLU(inplace=True)\n",
      "  (32): Conv2d(512, 512, kernel_size=(3, 3), stride=(1, 1), padding=(1, 1))\n",
      "  (33): ReLU(inplace=True)\n",
      "  (34): Conv2d(512, 512, kernel_size=(3, 3), stride=(1, 1), padding=(1, 1))\n",
      "  (35): ReLU(inplace=True)\n",
      "  (36): MaxPool2d(kernel_size=2, stride=2, padding=0, dilation=1, ceil_mode=False)\n",
      ")\n",
      "Sequential(\n",
      "  (0): Linear(in_features=32768, out_features=1024, bias=True)\n",
      "  (1): BatchNorm1d(1024, eps=1e-05, momentum=0.1, affine=True, track_running_stats=True)\n",
      "  (2): ReLU()\n",
      "  (3): Dropout2d(p=0.5, inplace=False)\n",
      "  (4): Linear(in_features=1024, out_features=1024, bias=True)\n",
      "  (5): BatchNorm1d(1024, eps=1e-05, momentum=0.1, affine=True, track_running_stats=True)\n",
      "  (6): ReLU()\n",
      "  (7): Dropout2d(p=0.5, inplace=False)\n",
      "  (8): Linear(in_features=1024, out_features=1024, bias=True)\n",
      "  (9): BatchNorm1d(1024, eps=1e-05, momentum=0.1, affine=True, track_running_stats=True)\n",
      "  (10): ReLU()\n",
      "  (11): Dropout2d(p=0.5, inplace=False)\n",
      "  (12): Linear(in_features=1024, out_features=3, bias=True)\n",
      ")\n"
     ]
    }
   ],
   "source": [
    "for name in model.children():\n",
    "    print(name)"
   ]
  },
  {
   "cell_type": "markdown",
   "id": "4b1f5fc1",
   "metadata": {},
   "source": [
    "# 4. Optimizer & Loss"
   ]
  },
  {
   "cell_type": "code",
   "execution_count": 12,
   "id": "c9ed7874",
   "metadata": {},
   "outputs": [],
   "source": [
    "loss_func = nn.CrossEntropyLoss()\n",
    "optimizer = optim.Adam(model.layer1.parameters(),lr=learning_rate)"
   ]
  },
  {
   "cell_type": "markdown",
   "id": "13d5e8fc",
   "metadata": {},
   "source": [
    "# 5. train"
   ]
  },
  {
   "cell_type": "code",
   "execution_count": 15,
   "id": "1828b49b",
   "metadata": {
    "scrolled": true
   },
   "outputs": [
    {
     "name": "stdout",
     "output_type": "stream",
     "text": [
      " 3 layer, n_node: 1024, dropratio: 0.50\n",
      "Correct of train: 22.22, dev: 3.33, test: 6.45\n",
      "0.. \n",
      "[0/20] loss: 2.172, "
     ]
    },
    {
     "name": "stderr",
     "output_type": "stream",
     "text": [
      "/home/ec2-user/anaconda3/envs/pytorch_p27/lib/python2.7/site-packages/torch/serialization.py:360: UserWarning: Couldn't retrieve source code for container of type MyVGG. It won't be checked for correctness upon loading.\n",
      "  \"type \" + obj.__name__ + \". It won't be checked \"\n"
     ]
    },
    {
     "name": "stdout",
     "output_type": "stream",
     "text": [
      " Correct of train: 37.50, dev: 26.67, test:16.13,  time: 121.36 sec..\n",
      "1.. 2.. 3.. 4.. 5.. 6.. 7.. 8.. 9.. 10.. \n",
      "[10/20] loss: 0.595,  Correct of train: 33.33, dev: 23.33, test:16.13,  time: 3427.41 sec..\n",
      "11.. 12.. 13.. 14.. 15.. 16.. 17.. 18.. 19.. \n",
      "[19/20] loss: 1.276,  Correct of train: 40.28, dev: 23.33, test:45.16,  time: 7822.98 sec..\n",
      "Total time: 7822.98 sec\n"
     ]
    }
   ],
   "source": [
    "import utils\n",
    "\n",
    "total_time = 0\n",
    "disp_step = 10\n",
    "\n",
    "to_train = True\n",
    "if (to_train==False):\n",
    "    netname = ',/nets/capshoestop_vgg19_10.pkl'\n",
    "    model = torch.load(netname)\n",
    "else:\n",
    "    print(\"3 layer, n_node: %d, dropratio: %.2f\" %(n_node, dropratio))\n",
    "    model.eval() \n",
    "    train_corr = utils.ComputeCorr(train_batch, model)\n",
    "    dev_corr = utils.ComputeCorr(dev_batch, model)\n",
    "    test_corr = utils.ComputeCorr(test_batch, model)\n",
    "    print(\"Correct of train: %.2f, dev: %.2f, test: %.2f\"\n",
    "           %(train_corr, dev_corr, test_corr))\n",
    "    model.train()\n",
    "    \n",
    "    netname = './nets/capshoestop_vgg19'\n",
    "    \n",
    "    #graph 그리기\n",
    "    x_epoch = []\n",
    "    y_train_err = []\n",
    "    y_dev_err = []\n",
    "    y_test_err = []\n",
    "    \n",
    "    x_epoch.append(0)\n",
    "    y_train_err.append(100.0-train_corr)\n",
    "    y_dev_err.append(100.0-dev_corr)\n",
    "    y_test_err.append(100.0-test_corr)\n",
    "    \n",
    "#     #학습을 재시작한다면\n",
    "#     netname = '../nets/media_pre_vgg19.pkl'\n",
    "#     model = torch.load(netname)\n",
    "#     #파라미터 학습 여부 결정\n",
    "#     for params in model.layer0.parameters():\n",
    "#         params.required_frad = False\n",
    "#     for params in model.layer1.parameters():\n",
    "#         params.required_frad = True\n",
    "#     for i in range(34, epoch):\n",
    "    \n",
    "    # 재시작하지 않는다면\n",
    "    for i in range(epoch):\n",
    "        start_time = time.time()\n",
    "        print(\"%d..\" %i),\n",
    "        for img,label in train_batch:\n",
    "            img = Variable(img)\n",
    "            label = Variable(label)\n",
    "            \n",
    "            optimizer.zero_grad()\n",
    "            output = model(img)\n",
    "            loss = loss_func(output,label)\n",
    "            loss.backward()\n",
    "            optimizer.step()\n",
    "        end_time = time.time()\n",
    "        duration = end_time - start_time\n",
    "        total_time += duration\n",
    "        if(i % disp_step == 0) or (i==epoch-1):\n",
    "            torch.save(model, netname+'_%d.pkl'%i, )\n",
    "            print(\"\\n[%d/%d] loss: %.3f, \" %(i, epoch, (loss.cpu()).data.numpy())),\n",
    "            \n",
    "            #evaluation(test) mode로 바꾸기 -> dropout, batch normalization에 영향을 줌.\n",
    "            model.eval()\n",
    "            \n",
    "            #train, dev, train accr\n",
    "            train_corr = utils.ComputeCorr(train_batch, model)\n",
    "            dev_corr = utils.ComputeCorr(dev_batch, model)\n",
    "            test_corr = utils.ComputeCorr(test_batch, model)\n",
    "            print(\"Correct of train: %.2f, dev: %.2f, test:%.2f, \"\n",
    "                 %(train_corr, dev_corr, test_corr)),\n",
    "            model.train()\n",
    "            print(\"time: %.2f sec..\" %(total_time))\n",
    "            \n",
    "            #graph 그리기\n",
    "            x_epoch.append(i+1)\n",
    "            y_train_err.append(100.0-train_corr)\n",
    "            y_dev_err.append(100.0-dev_corr)\n",
    "            y_test_err.append(100.0-test_corr)\n",
    "    print(\"Total time: %.2f sec\" %total_time)\n",
    "    "
   ]
  },
  {
   "cell_type": "code",
   "execution_count": 16,
   "id": "33f317c2",
   "metadata": {},
   "outputs": [
    {
     "data": {
      "image/png": "[encoded data removed]",
      "text/plain": [
       "<Figure size 432x288 with 1 Axes>"
      ]
     },
     "metadata": {
      "needs_background": "light"
     },
     "output_type": "display_data"
    }
   ],
   "source": [
    "#epoch_err curve\n",
    "if(to_train):\n",
    "    plt.plot(x_epoch, y_train_err, color='black', label='train err', linestyle='--')\n",
    "    plt.plot(x_epoch, y_dev_err, color='red', label='dev err')\n",
    "    plt.plot(x_epoch, y_test_err, color='blue', label='test err')\n",
    "    \n",
    "    plt.xlabel('epoch')\n",
    "    plt.ylabel('err')\n",
    "    plt.title('epoch&err graph')\n",
    "    plt.legend(loc=\"upper right\")\n",
    "    plt.show()"
   ]
  },
  {
   "cell_type": "markdown",
   "id": "9da095c7",
   "metadata": {},
   "source": [
    "# 6. Evaluation for dev & test data"
   ]
  },
  {
   "cell_type": "code",
   "execution_count": null,
   "id": "150268bc",
   "metadata": {},
   "outputs": [],
   "source": [
    "model.eval()\n",
    "utils.EvaluateClassifier(dev_batch, model, dev_data.classes, batch_size)"
   ]
  },
  {
   "cell_type": "code",
   "execution_count": null,
   "id": "33c3c76d",
   "metadata": {},
   "outputs": [],
   "source": [
    "model.eval()\n",
    "_, _,_=utils.EvaluateClassifier(test_batch, model, test_data.classes, batch_size)"
   ]
  },
  {
   "cell_type": "code",
   "execution_count": null,
   "id": "98f9f57c",
   "metadata": {},
   "outputs": [],
   "source": [
    "utils.VisTFPred(dev_batch, model, test_data.classes, batch_size, i_n=2)"
   ]
  }
 ],
 "metadata": {
  "kernelspec": {
   "display_name": "conda_pytorch_p27",
   "language": "python",
   "name": "conda_pytorch_p27"
  },
  "language_info": {
   "codemirror_mode": {
    "name": "ipython",
    "version": 2
   },
   "file_extension": ".py",
   "mimetype": "text/x-python",
   "name": "python",
   "nbconvert_exporter": "python",
   "pygments_lexer": "ipython2",
   "version": "2.7.16"
  }
 },
 "nbformat": 4,
 "nbformat_minor": 5
}
