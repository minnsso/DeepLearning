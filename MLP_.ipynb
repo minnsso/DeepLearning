{
 "cells": [
  {
   "cell_type": "markdown",
   "id": "split-contamination",
   "metadata": {},
   "source": [
    "## MNIST를 2 hidden layer 퍼셉트론으로 학습하기"
   ]
  },
  {
   "cell_type": "code",
   "execution_count": 3,
   "id": "seeing-catholic",
   "metadata": {},
   "outputs": [],
   "source": [
    "import torch\n",
    "import torch.nn as nn\n",
    "import torch.optim as optim\n",
    "import torchvision.datasets as dset\n",
    "import torchvision.transforms as transforms\n",
    "from torch.utils.data import DataLoader\n",
    "from torch.autograd import Variable\n",
    "import matplotlib.pyplot as plt\n",
    "%matplotlib inline\n",
    "import numpy as np"
   ]
  },
  {
   "cell_type": "markdown",
   "id": "female-narrow",
   "metadata": {},
   "source": [
    "## 1. MNIST train, test dataset 가져오기 "
   ]
  },
  {
   "cell_type": "code",
   "execution_count": 4,
   "id": "inclusive-algeria",
   "metadata": {},
   "outputs": [],
   "source": [
    "# \"\" : 현재 폴더에 MNIST 있음\n",
    "mnist_train=dset.MNIST(\"\", train=True,transform=transforms.ToTensor(),\n",
    "                      target_transform=None, download=True)\n",
    "mnist_test=dset.MNIST(\"\", train=True,transform=transforms.ToTensor(),\n",
    "                      target_transform=None, download=True)"
   ]
  },
  {
   "cell_type": "markdown",
   "id": "protective-intellectual",
   "metadata": {},
   "source": [
    "## 2. 대략적인 데이터 형태"
   ]
  },
  {
   "cell_type": "code",
   "execution_count": 5,
   "id": "knowing-sense",
   "metadata": {},
   "outputs": [
    {
     "name": "stdout",
     "output_type": "stream",
     "text": [
      "mnist_train 길이: 60000\n",
      "mnist_test 길이: 60000\n",
      "image data 형태: torch.Size([1, 28, 28])\n",
      "label:  5\n"
     ]
    },
    {
     "data": {
      "image/png": "[encoded data removed]",
      "text/plain": [
       "<Figure size 432x288 with 1 Axes>"
      ]
     },
     "metadata": {
      "needs_background": "light"
     },
     "output_type": "display_data"
    }
   ],
   "source": [
    "print \"mnist_train 길이:\", len(mnist_train)\n",
    "print \"mnist_test 길이:\", len(mnist_test)\n",
    "\n",
    "# 데이터 하나 형태\n",
    "image, label = mnist_train.__getitem__(0)  #0번째 데이터\n",
    "print \"image data 형태:\", image.size()\n",
    "print \"label: \", label\n",
    "\n",
    "#그리기\n",
    "img = image.numpy()  # image 타입을 numpy로 변환 (1,28,28)\n",
    "plt.imshow(img[0], cmap='gray')\n",
    "plt.show()"
   ]
  },
  {
   "cell_type": "markdown",
   "id": "burning-cathedral",
   "metadata": {},
   "source": [
    "## 3. 데이터 로드함수\n",
    "학습시킬 때 batch_size로 끊어서 로드하기 위함"
   ]
  },
  {
   "cell_type": "code",
   "execution_count": 6,
   "id": "found-party",
   "metadata": {},
   "outputs": [],
   "source": [
    "# hyper parameters\n",
    "batch_size = 1024\n",
    "learning_rate = 0.01  #0.1, 0.01, 0.001, 0.0001, ...\n",
    "num_epoch = 400"
   ]
  },
  {
   "cell_type": "code",
   "execution_count": 7,
   "id": "premium-lesson",
   "metadata": {},
   "outputs": [],
   "source": [
    "train_loader = torch.utils.data.DataLoader(mnist_train,\n",
    "                                          batch_size=batch_size,  # mnist_train를 트레인 시키자.\n",
    "                                          shuffle=True, num_workers=2,\n",
    "                                          drop_last=True)  # batch_size 만큼 나눌 때 나머지는 버려라\n",
    "test_loader = torch.utils.data.DataLoader(mnist_test,batch_size=batch_size,  \n",
    "                                          shuffle=True, num_workers=2,\n",
    "                                          drop_last=True)  "
   ]
  },
  {
   "cell_type": "code",
   "execution_count": 8,
   "id": "psychological-flash",
   "metadata": {},
   "outputs": [
    {
     "name": "stdout",
     "output_type": "stream",
     "text": [
      "[0]\n",
      "한 번에 로드되는 데이터크기: 1024\n"
     ]
    },
    {
     "data": {
      "image/png": "[encoded data removed]",
      "text/plain": [
       "<Figure size 432x288 with 3 Axes>"
      ]
     },
     "metadata": {
      "needs_background": "light"
     },
     "output_type": "display_data"
    },
    {
     "name": "stdout",
     "output_type": "stream",
     "text": [
      "[1]\n",
      "한 번에 로드되는 데이터크기: 1024\n"
     ]
    },
    {
     "data": {
      "image/png": "[encoded data removed]",
      "text/plain": [
       "<Figure size 432x288 with 3 Axes>"
      ]
     },
     "metadata": {
      "needs_background": "light"
     },
     "output_type": "display_data"
    },
    {
     "name": "stdout",
     "output_type": "stream",
     "text": [
      "[2]\n",
      "한 번에 로드되는 데이터크기: 1024\n"
     ]
    },
    {
     "data": {
      "image/png": "[encoded data removed]",
      "text/plain": [
       "<Figure size 432x288 with 3 Axes>"
      ]
     },
     "metadata": {
      "needs_background": "light"
     },
     "output_type": "display_data"
    },
    {
     "name": "stdout",
     "output_type": "stream",
     "text": [
      "[3]\n",
      "한 번에 로드되는 데이터크기: 1024\n"
     ]
    },
    {
     "data": {
      "image/png": "[encoded data removed]",
      "text/plain": [
       "<Figure size 432x288 with 3 Axes>"
      ]
     },
     "metadata": {
      "needs_background": "light"
     },
     "output_type": "display_data"
    },
    {
     "name": "stdout",
     "output_type": "stream",
     "text": [
      "[4]\n",
      "한 번에 로드되는 데이터크기: 1024\n"
     ]
    },
    {
     "data": {
      "image/png": "[encoded data removed]",
      "text/plain": [
       "<Figure size 432x288 with 3 Axes>"
      ]
     },
     "metadata": {
      "needs_background": "light"
     },
     "output_type": "display_data"
    },
    {
     "name": "stdout",
     "output_type": "stream",
     "text": [
      "[5]\n",
      "한 번에 로드되는 데이터크기: 1024\n"
     ]
    },
    {
     "data": {
      "image/png": "[encoded data removed]",
      "text/plain": [
       "<Figure size 432x288 with 3 Axes>"
      ]
     },
     "metadata": {
      "needs_background": "light"
     },
     "output_type": "display_data"
    }
   ],
   "source": [
    "n = 3  # 샘플로 그려볼 데이터 개수\n",
    "for i, [imgs, labels] in enumerate(test_loader):  # batch_size 만큼\n",
    "    if i>5:\n",
    "        break\n",
    "        \n",
    "    print \"[%d]\" %i\n",
    "    print \"한 번에 로드되는 데이터크기:\", len(imgs)\n",
    "    \n",
    "    # 그리기\n",
    "    for j in range(n):\n",
    "        img = imgs[j].numpy()  # image 타입을 numpy로 변환 (1,28,28)\n",
    "        img = img.reshape((img.shape[1], img.shape[2]))  # (1,28,28) -> (28,28)\n",
    "        #print img.shape\n",
    "        \n",
    "        plt.subplot(1, n, j+1)  # (1,3) 형태 플라스이 j번째 자리에 그리겠다\n",
    "        plt.imshow(img, cmap='gray')\n",
    "        plt.title(\"label: %d\" %labels[j])\n",
    "    plt.show();"
   ]
  },
  {
   "cell_type": "markdown",
   "id": "numerous-juice",
   "metadata": {},
   "source": [
    "## 4. 모델 선언"
   ]
  },
  {
   "cell_type": "code",
   "execution_count": 9,
   "id": "reliable-carter",
   "metadata": {},
   "outputs": [],
   "source": [
    "# 모델 선언\n",
    "# * 퍼셉트론(2 hidden layer) *\n",
    "model = nn.Sequential(\n",
    "    nn.Linear(28*28,256),\n",
    "    nn.Sigmoid(),     #nn,RELU(),    ##nn.Sigmpid()   91.89%\n",
    "    nn.Linear(256,128),\n",
    "    nn.Linear(128,10),\n",
    ")\n",
    "# 파라미터 보기 \n",
    "# print(list(model.parameters()))  # 초기 파라미터 출력"
   ]
  },
  {
   "cell_type": "code",
   "execution_count": 10,
   "id": "furnished-asbestos",
   "metadata": {},
   "outputs": [],
   "source": [
    "#model = model.cuda()"
   ]
  },
  {
   "cell_type": "code",
   "execution_count": 11,
   "id": "early-bandwidth",
   "metadata": {},
   "outputs": [],
   "source": [
    "def ComputeAccr(dloader, imodel):\n",
    "    correct = 0\n",
    "    total = 0\n",
    "    \n",
    "    for j, [imgs, labels] in enumerate(dloader):   # batch_size 만큼\n",
    "        img = imgs  #x\n",
    "        label = Variable(labels) # y\n",
    "        #label = Variable(labels).cuda()\n",
    "        # .cuda() : GPU에 로드되기 위함. 만약 CPU로 설정되어 있다면 에러남\n",
    "        \n",
    "        # (batch_size, 1, 28, 28) -> (batch_size, 28,28)\n",
    "        img = img.reshape((img.shape[0], img.shape[2], img.shape[3]))\n",
    "        # (batch_size, 28, 28) -> (batch_size, 28*28)\n",
    "        img = img.reshape((img.shape[0], img.shape[1]*img.shape[2]))\n",
    "        img = Variable(img, requires_grad=False)\n",
    "        #img = Variable(img, requires_grad=False).cuda()\n",
    "        \n",
    "        \n",
    "        output = imodel(img)  # forward prop\n",
    "        _, output_index = torch.max(output, 1)\n",
    "        \n",
    "        total += label.size(0)\n",
    "        correct += (output_index == label).sum().float()\n",
    "    print(\"Accuracy of Test Data: {}\".format(100*correct/total))"
   ]
  },
  {
   "cell_type": "code",
   "execution_count": 12,
   "id": "congressional-classroom",
   "metadata": {},
   "outputs": [
    {
     "name": "stdout",
     "output_type": "stream",
     "text": [
      "Accuracy of Test Data: 9.90200710297\n"
     ]
    }
   ],
   "source": [
    "ComputeAccr(test_loader, model)"
   ]
  },
  {
   "cell_type": "markdown",
   "id": "serious-dinner",
   "metadata": {},
   "source": [
    "## 5. loss, optimizer"
   ]
  },
  {
   "cell_type": "code",
   "execution_count": 13,
   "id": "stopped-panel",
   "metadata": {},
   "outputs": [],
   "source": [
    "loss_func = nn.CrossEntropyLoss()  # logit(# of classes), target(1)\n",
    "optimizer = optim.SGD(model.parameters(), lr=learning_rate)"
   ]
  },
  {
   "cell_type": "markdown",
   "id": "downtown-grade",
   "metadata": {},
   "source": [
    "## 6. 학습"
   ]
  },
  {
   "cell_type": "code",
   "execution_count": 14,
   "id": "beneficial-recommendation",
   "metadata": {},
   "outputs": [
    {
     "name": "stdout",
     "output_type": "stream",
     "text": [
      "0..\n",
      "Accuracy of Test Data: 11.269194603\n",
      "tensor(2.2965, grad_fn=<NllLossBackward>)\n",
      "50..\n",
      "Accuracy of Test Data: 80.667427063\n",
      "tensor(0.7441, grad_fn=<NllLossBackward>)\n",
      "100..\n",
      "Accuracy of Test Data: 87.9411392212\n",
      "tensor(0.4302, grad_fn=<NllLossBackward>)\n",
      "150..\n",
      "Accuracy of Test Data: 89.6501235962\n",
      "tensor(0.3826, grad_fn=<NllLossBackward>)\n",
      "200..\n",
      "Accuracy of Test Data: 90.4583129883\n",
      "tensor(0.3196, grad_fn=<NllLossBackward>)\n",
      "250..\n",
      "Accuracy of Test Data: 90.9331207275\n",
      "tensor(0.3907, grad_fn=<NllLossBackward>)\n",
      "300..\n",
      "Accuracy of Test Data: 91.3523712158\n",
      "tensor(0.2799, grad_fn=<NllLossBackward>)\n",
      "350..\n",
      "Accuracy of Test Data: 91.6806945801\n",
      "tensor(0.2939, grad_fn=<NllLossBackward>)\n"
     ]
    }
   ],
   "source": [
    "num_epoch = 400\n",
    "for i in range(num_epoch):\n",
    "    for j, [imgs, labels] in enumerate(train_loader):  # batch_size만큼\n",
    "        img = imgs   # (batch_size, 1, 28, 28)\n",
    "        label = Variable(labels)  # (batch_size)\n",
    "        #label = Variable(labels).cuda()  # (batch_size)\n",
    "        \n",
    "        # (batch_size, 1, 28, 28) -> (batch_size, 28, 28)\n",
    "        img = img.reshape((img.shape[0], img.shape[2], img.shape[3]))\n",
    "        # (batch_size, 28, 28) -> (batch_size, 28*28)\n",
    "        img = img.reshape((img.shape[0], img.shape[1]*img.shape[2]))\n",
    "        img = Variable(img, requires_grad=True)\n",
    "        #img = Variable(img, requires_grad=True).cuda()\n",
    "        \n",
    "        optimizer.zero_grad()\n",
    "        output = model(img)  # forward prop.\n",
    "        loss = loss_func(output, label)  # logit(# of classes), target(1)\n",
    "        \n",
    "        loss.backward()  # back prop.\n",
    "        optimizer.step()  # weight 조정\n",
    "    \n",
    "    if i%50==0:\n",
    "        print(\"%d..\" %i)\n",
    "        ComputeAccr(test_loader, model)\n",
    "        print loss"
   ]
  },
  {
   "cell_type": "markdown",
   "id": "military-share",
   "metadata": {},
   "source": [
    "## 7. 테스트"
   ]
  },
  {
   "cell_type": "code",
   "execution_count": 15,
   "id": "medieval-update",
   "metadata": {},
   "outputs": [
    {
     "name": "stdout",
     "output_type": "stream",
     "text": [
      "Accuracy of Test Data: 91.8793792725\n"
     ]
    }
   ],
   "source": [
    "ComputeAccr(test_loader, model)  #98.  %(ReLU), 92.48%(ReLU X)"
   ]
  },
  {
   "cell_type": "markdown",
   "id": "needed-aircraft",
   "metadata": {},
   "source": [
    "## 8. 학습된 파라미터 저장"
   ]
  },
  {
   "cell_type": "code",
   "execution_count": 16,
   "id": "liked-technology",
   "metadata": {},
   "outputs": [],
   "source": [
    "netname = './nets/mip_weight.pkl'\n",
    "torch.save(model, netname, )\n",
    "\n",
    "#model = torch.load(netname)"
   ]
  },
  {
   "cell_type": "code",
   "execution_count": null,
   "id": "comprehensive-diary",
   "metadata": {},
   "outputs": [],
   "source": []
  }
 ],
 "metadata": {
  "kernelspec": {
   "display_name": "conda_pytorch_p27",
   "language": "python",
   "name": "conda_pytorch_p27"
  },
  "language_info": {
   "codemirror_mode": {
    "name": "ipython",
    "version": 2
   },
   "file_extension": ".py",
   "mimetype": "text/x-python",
   "name": "python",
   "nbconvert_exporter": "python",
   "pygments_lexer": "ipython2",
   "version": "2.7.16"
  }
 },
 "nbformat": 4,
 "nbformat_minor": 5
}
