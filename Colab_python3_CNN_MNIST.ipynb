{
  "nbformat": 4,
  "nbformat_minor": 0,
  "metadata": {
    "colab": {
      "name": "Colab_python3_CNN-MNIST.ipynb",
      "provenance": []
    },
    "kernelspec": {
      "name": "python3",
      "display_name": "Python 3"
    },
    "language_info": {
      "name": "python"
    },
    "accelerator": "GPU"
  },
  "cells": [
    {
      "cell_type": "markdown",
      "metadata": {
        "id": "SPjDVgGDw6Yy"
      },
      "source": [
        "[Github https://github.com/minseo0589]"
      ]
    },
    {
      "cell_type": "markdown",
      "metadata": {
        "id": "mtWv3FJlxC-K"
      },
      "source": [
        "## Load packages"
      ]
    },
    {
      "cell_type": "code",
      "metadata": {
        "id": "MYgLrhqDrDH5"
      },
      "source": [
        "import torch\n",
        "import torch.nn as nn\n",
        "import torchvision.datasets as dset\n",
        "import torchvision.transforms as transforms\n",
        "from torch.utils.data import DataLoader\n",
        "from torch.autograd import Variable\n",
        "import matplotlib.pyplot as plt\n",
        "%matplotlib inline"
      ],
      "execution_count": 24,
      "outputs": []
    },
    {
      "cell_type": "markdown",
      "metadata": {
        "id": "6XpU6_3PxQya"
      },
      "source": [
        "## MNIST train, test dataset 가져오기"
      ]
    },
    {
      "cell_type": "code",
      "metadata": {
        "id": "V_aDYz4SxR9r"
      },
      "source": [
        "# \"\" : 현재 폴더에 MNIST 있음\n",
        "mnist_train=dset.MNIST(\"\", train=True,transform=transforms.ToTensor(),\n",
        "                      target_transform=None, download=True)\n",
        "mnist_test=dset.MNIST(\"\", train=False,transform=transforms.ToTensor(),\n",
        "                      target_transform=None, download=True)"
      ],
      "execution_count": 25,
      "outputs": []
    },
    {
      "cell_type": "markdown",
      "metadata": {
        "id": "GcnmfuIbxZj-"
      },
      "source": [
        "## 대략적인 데이터 형태"
      ]
    },
    {
      "cell_type": "code",
      "metadata": {
        "colab": {
          "base_uri": "https://localhost:8080/",
          "height": 335
        },
        "id": "fioyJ_1kxdlE",
        "outputId": "bcee283d-4d55-4d52-e6ba-ed3ce27eed7e"
      },
      "source": [
        "print (\"mnist_train 길이:\"), len(mnist_train)\n",
        "print (\"mnist_test 길이:\"), len(mnist_test)\n",
        "\n",
        "# 데이터 하나 형태\n",
        "image, label = mnist_train.__getitem__(0)  #0번째 데이터\n",
        "print (\"image data 형태:\"), image.size()\n",
        "print (\"label: \"), label\n",
        "\n",
        "#그리기\n",
        "img = image.numpy()  # image 타입을 numpy로 변환 (1,28,28)\n",
        "plt.title(\"label: %d\" % label)\n",
        "plt.imshow(img[0], cmap='gray')\n",
        "plt.show()"
      ],
      "execution_count": 26,
      "outputs": [
        {
          "output_type": "stream",
          "text": [
            "mnist_train 길이:\n",
            "mnist_test 길이:\n",
            "image data 형태:\n",
            "label: \n"
          ],
          "name": "stdout"
        },
        {
          "output_type": "display_data",
          "data": {
            "image/png": "[encoded data removed]",
            "text/plain": [
              "<Figure size 432x288 with 1 Axes>"
            ]
          },
          "metadata": {
            "tags": [],
            "needs_background": "light"
          }
        }
      ]
    },
    {
      "cell_type": "markdown",
      "metadata": {
        "id": "TSCdvvDzxyFY"
      },
      "source": [
        "## MNIST data 띄워보기"
      ]
    },
    {
      "cell_type": "code",
      "metadata": {
        "colab": {
          "base_uri": "https://localhost:8080/",
          "height": 849
        },
        "id": "_Ki6pLu_xzLI",
        "outputId": "52becedc-9e37-414a-88b7-37254a9a7802"
      },
      "source": [
        "print(mnist_train[0][1])  #label\n",
        "print(mnist_train[0][0].size())   #image\n",
        "\n",
        "for i in range(3):\n",
        "    img=mnist_train[i][0].numpy()\n",
        "    print(mnist_train[i][1])\n",
        "    plt.imshow(img[0],cmap='gray')\n",
        "    plt.show()"
      ],
      "execution_count": 27,
      "outputs": [
        {
          "output_type": "stream",
          "text": [
            "5\n",
            "torch.Size([1, 28, 28])\n",
            "5\n"
          ],
          "name": "stdout"
        },
        {
          "output_type": "display_data",
          "data": {
            "image/png": "[encoded data removed]",
            "text/plain": [
              "<Figure size 432x288 with 1 Axes>"
            ]
          },
          "metadata": {
            "tags": [],
            "needs_background": "light"
          }
        },
        {
          "output_type": "stream",
          "text": [
            "0\n"
          ],
          "name": "stdout"
        },
        {
          "output_type": "display_data",
          "data": {
            "image/png": "[encoded data removed]",
            "text/plain": [
              "<Figure size 432x288 with 1 Axes>"
            ]
          },
          "metadata": {
            "tags": [],
            "needs_background": "light"
          }
        },
        {
          "output_type": "stream",
          "text": [
            "4\n"
          ],
          "name": "stdout"
        },
        {
          "output_type": "display_data",
          "data": {
            "image/png": "[encoded data removed]",
            "text/plain": [
              "<Figure size 432x288 with 1 Axes>"
            ]
          },
          "metadata": {
            "tags": [],
            "needs_background": "light"
          }
        }
      ]
    },
    {
      "cell_type": "markdown",
      "metadata": {
        "id": "M6mxNmgLx4a0"
      },
      "source": [
        "## convolution 하나 씌워보기"
      ]
    },
    {
      "cell_type": "code",
      "metadata": {
        "colab": {
          "base_uri": "https://localhost:8080/",
          "height": 814
        },
        "id": "36g3WJc7x5dg",
        "outputId": "5d17b288-430a-40c6-b9ac-36fa17b73216"
      },
      "source": [
        "# mnist의 첫 번째 이미지. 라벨 가져오기\n",
        "image, label = mnist_train[0]\n",
        "# view: tensor의 사이즈 조절, -1: 해당 차원 확장시켜라\n",
        "# [1,28,28] -> [1,1,28,28]\n",
        "image=image.view(-1, image.size()[0], image.size()[1], image.size()[2])\n",
        "print(image.size())\n",
        "\n",
        "print (label)\n",
        "\n",
        "# convolution filter 정의\n",
        "conv_layer=nn.Conv2d(in_channels=1,out_channels=3,kernel_size=3,padding=1)\n",
        "# image에 filter 적용\n",
        "output=conv_layer(Variable(image))\n",
        "print(output.size())\n",
        "\n",
        "for i in range(3):\n",
        "    plt.imshow(output[0,i,:,:].data.numpy(), cmap='gray')\n",
        "    plt.show()"
      ],
      "execution_count": 28,
      "outputs": [
        {
          "output_type": "stream",
          "text": [
            "torch.Size([1, 1, 28, 28])\n",
            "5\n",
            "torch.Size([1, 3, 28, 28])\n"
          ],
          "name": "stdout"
        },
        {
          "output_type": "display_data",
          "data": {
            "image/png": "[encoded data removed]",
            "text/plain": [
              "<Figure size 432x288 with 1 Axes>"
            ]
          },
          "metadata": {
            "tags": [],
            "needs_background": "light"
          }
        },
        {
          "output_type": "display_data",
          "data": {
            "image/png": "[encoded data removed]",
            "text/plain": [
              "<Figure size 432x288 with 1 Axes>"
            ]
          },
          "metadata": {
            "tags": [],
            "needs_background": "light"
          }
        },
        {
          "output_type": "display_data",
          "data": {
            "image/png": "[encoded data removed]",
            "text/plain": [
              "<Figure size 432x288 with 1 Axes>"
            ]
          },
          "metadata": {
            "tags": [],
            "needs_background": "light"
          }
        }
      ]
    },
    {
      "cell_type": "markdown",
      "metadata": {
        "id": "sbZQp00HyHri"
      },
      "source": [
        "## CNN 만들기"
      ]
    },
    {
      "cell_type": "markdown",
      "metadata": {
        "id": "xhy6qV5ZyKzA"
      },
      "source": [
        "## train, test data 가져오기"
      ]
    },
    {
      "cell_type": "code",
      "metadata": {
        "id": "x0I7WUI3yIbi"
      },
      "source": [
        "import numpy as np\n",
        "import torch.optim as optim\n",
        "\n",
        "batch_size = 16\n",
        "learning_rate = 0.0002\n",
        "num_epoch = 10  #1000"
      ],
      "execution_count": 29,
      "outputs": []
    },
    {
      "cell_type": "code",
      "metadata": {
        "id": "NYBgV8jWyQEw"
      },
      "source": [
        "# 후에 학습시킬 때 batch_size 단위로 학습시켜 나감\n",
        "train_loader = torch.utils.data.DataLoader(list(mnist_train)[:batch_size*100], batch_size=batch_size,   # mnist_train을 트레인 시킴\n",
        "                                          shuffle=True, num_workers=2,\n",
        "                                          drop_last=True)  # batch_size만큼 나눌 때 나머지는 버려라\n",
        "\n",
        "test_loader = torch.utils.data.DataLoader((mnist_test), batch_size=batch_size,   \n",
        "                                          shuffle=False, num_workers=2,\n",
        "                                          drop_last=True) "
      ],
      "execution_count": 31,
      "outputs": []
    },
    {
      "cell_type": "markdown",
      "metadata": {
        "id": "SF4muxYD1rC2"
      },
      "source": [
        "## CNN 클래스 만들기(모델 만들기)"
      ]
    },
    {
      "cell_type": "code",
      "metadata": {
        "id": "JTW9O2Vb1uJL"
      },
      "source": [
        "class CNN(nn.Module):   # nn.Module 상속받음\n",
        "    def __init__(self):\n",
        "        super(CNN, self).__init__()  # 28*28\n",
        "        self.layer=nn.Sequential(\n",
        "            nn.Conv2d(1, 16, 5, padding=2),\n",
        "            nn.ReLU(),\n",
        "             \n",
        "            nn.Conv2d(16, 32, 5, padding=2),    # 28*28\n",
        "            nn.ReLU(),\n",
        "            nn.MaxPool2d(2,2),  #28*28 -> 14*14\n",
        "            \n",
        "            nn.Conv2d(32, 64, 5, padding=2),    # 14*14\n",
        "            nn.ReLU(),\n",
        "            nn.MaxPool2d(2,2)  #14*14 -> 7*7\n",
        "        )\n",
        "        self.fc_layer=nn.Sequential(\n",
        "            nn.Linear(64*7*7, 100),\n",
        "            nn.ReLU(),\n",
        "            nn.Linear(100, 10)\n",
        "        )\n",
        "    \n",
        "    def forward(self, x):\n",
        "        out = self.layer(x)\n",
        "        out = out.view(batch_size, -1)\n",
        "        out = self.fc_layer(out)\n",
        "        return out\n",
        "\n",
        "model = CNN().cuda()"
      ],
      "execution_count": 33,
      "outputs": []
    },
    {
      "cell_type": "code",
      "metadata": {
        "colab": {
          "base_uri": "https://localhost:8080/",
          "height": 0
        },
        "id": "ONsFcMDW3nEr",
        "outputId": "1f396e56-2bf1-4780-fd97-25b4cb6b841c"
      },
      "source": [
        "#파라미터 체크하기\n",
        "for  parameter in model.parameters():\n",
        "    #print(parameter)\n",
        "    print(parameter.shape)"
      ],
      "execution_count": 34,
      "outputs": [
        {
          "output_type": "stream",
          "text": [
            "torch.Size([16, 1, 5, 5])\n",
            "torch.Size([16])\n",
            "torch.Size([32, 16, 5, 5])\n",
            "torch.Size([32])\n",
            "torch.Size([64, 32, 5, 5])\n",
            "torch.Size([64])\n",
            "torch.Size([100, 3136])\n",
            "torch.Size([100])\n",
            "torch.Size([10, 100])\n",
            "torch.Size([10])\n"
          ],
          "name": "stdout"
        }
      ]
    },
    {
      "cell_type": "code",
      "metadata": {
        "id": "Jm3V0nm367tb"
      },
      "source": [
        "# loss function, optimizer 선언\n",
        "loss_func = nn.CrossEntropyLoss()\n",
        "optimizer = torch.optim.Adam(model.parameters(), lr=learning_rate)"
      ],
      "execution_count": 36,
      "outputs": []
    },
    {
      "cell_type": "markdown",
      "metadata": {
        "id": "BQrQO9ed65ed"
      },
      "source": [
        "## optimization"
      ]
    },
    {
      "cell_type": "code",
      "metadata": {
        "colab": {
          "base_uri": "https://localhost:8080/",
          "height": 0
        },
        "id": "6392kxer71-r",
        "outputId": "dfc5efe9-1091-4732-a4d8-2a79ec5f193e"
      },
      "source": [
        "for i in range(num_epoch):\n",
        "  for j, [image, label] in enumerate(train_loader):   #batch_size만큼\n",
        "     x  = Variable(image).cuda()\n",
        "     y_ = Variable(label).cuda()\n",
        "\n",
        "     optimizer.zero_grad()  #optimizer 안에서 이전 gradient들을 초기화\n",
        "     output=model.forward(x)\n",
        "     loss = loss_func(output, y_)\n",
        "     loss.backward()  # gradient 계산\n",
        "     optimizer.step()  # parameter 업데이트\n",
        "\n",
        "     if j%50==0:\n",
        "       print(loss, j, i)"
      ],
      "execution_count": 37,
      "outputs": [
        {
          "output_type": "stream",
          "text": [
            "tensor(2.2956, device='cuda:0', grad_fn=<NllLossBackward>) 0 0\n",
            "tensor(1.5956, device='cuda:0', grad_fn=<NllLossBackward>) 50 0\n",
            "tensor(0.4933, device='cuda:0', grad_fn=<NllLossBackward>) 0 1\n",
            "tensor(0.4362, device='cuda:0', grad_fn=<NllLossBackward>) 50 1\n",
            "tensor(0.2149, device='cuda:0', grad_fn=<NllLossBackward>) 0 2\n",
            "tensor(0.1255, device='cuda:0', grad_fn=<NllLossBackward>) 50 2\n",
            "tensor(0.5666, device='cuda:0', grad_fn=<NllLossBackward>) 0 3\n",
            "tensor(0.7093, device='cuda:0', grad_fn=<NllLossBackward>) 50 3\n",
            "tensor(0.2488, device='cuda:0', grad_fn=<NllLossBackward>) 0 4\n",
            "tensor(0.1474, device='cuda:0', grad_fn=<NllLossBackward>) 50 4\n",
            "tensor(0.0452, device='cuda:0', grad_fn=<NllLossBackward>) 0 5\n",
            "tensor(0.0484, device='cuda:0', grad_fn=<NllLossBackward>) 50 5\n",
            "tensor(0.0160, device='cuda:0', grad_fn=<NllLossBackward>) 0 6\n",
            "tensor(0.0148, device='cuda:0', grad_fn=<NllLossBackward>) 50 6\n",
            "tensor(0.0186, device='cuda:0', grad_fn=<NllLossBackward>) 0 7\n",
            "tensor(0.1712, device='cuda:0', grad_fn=<NllLossBackward>) 50 7\n",
            "tensor(0.0282, device='cuda:0', grad_fn=<NllLossBackward>) 0 8\n",
            "tensor(0.0045, device='cuda:0', grad_fn=<NllLossBackward>) 50 8\n",
            "tensor(0.0072, device='cuda:0', grad_fn=<NllLossBackward>) 0 9\n",
            "tensor(0.0481, device='cuda:0', grad_fn=<NllLossBackward>) 50 9\n"
          ],
          "name": "stdout"
        }
      ]
    },
    {
      "cell_type": "code",
      "metadata": {
        "id": "BVFVzFzyFDqk"
      },
      "source": [
        "# 모델 저장시키기\n",
        "torch.save(model, 'nets/mycnn_model_%d.pkl'%(num_epoch))"
      ],
      "execution_count": 38,
      "outputs": []
    },
    {
      "cell_type": "code",
      "metadata": {
        "colab": {
          "base_uri": "https://localhost:8080/",
          "height": 0
        },
        "id": "bSgeEp8AF17w",
        "outputId": "7e541833-51df-45d8-8e17-5c935d58ec80"
      },
      "source": [
        "try:\n",
        "  #미리 학습시킨 네트워크의 파라미터 집합 [피클]이라 발음함.\n",
        "  model=torch.load('nets/mycnn_model_10.pkl')\n",
        "  print(\"model restored\")\n",
        "except:\n",
        "  print(\"model not restored\")"
      ],
      "execution_count": 40,
      "outputs": [
        {
          "output_type": "stream",
          "text": [
            "model restored\n"
          ],
          "name": "stdout"
        }
      ]
    },
    {
      "cell_type": "code",
      "metadata": {
        "id": "fC2cjstyGx5A"
      },
      "source": [
        "def ComputeAccr(dloader, imodel):\n",
        "  correct = 0\n",
        "  total = 0\n",
        "\n",
        "  for j, [imgs, labels] in enumerate(dloader): #batch_size 만큼\n",
        "      img = Variable(imgs).cuda()\n",
        "      label = Variable(labels).cuda()\n",
        "\n",
        "      output = imodel.forward(img) #forward prop.\n",
        "      _, output_index = torch.max(output, 1)\n",
        "\n",
        "      total += label.size(0)\n",
        "      correct += (output_index == label).sum().float()\n",
        "  print(\"Accuracy of Test Data: {}\".format(100*correct/total))\n"
      ],
      "execution_count": 42,
      "outputs": []
    },
    {
      "cell_type": "code",
      "metadata": {
        "colab": {
          "base_uri": "https://localhost:8080/",
          "height": 0
        },
        "id": "jgTPWd2MHxlm",
        "outputId": "702ceeb8-0966-427f-d25c-7035312d4f70"
      },
      "source": [
        "ComputeAccr(test_loader, model)"
      ],
      "execution_count": 43,
      "outputs": [
        {
          "output_type": "stream",
          "text": [
            "Accuracy of Test Data: 94.7249984741211\n"
          ],
          "name": "stdout"
        }
      ]
    }
  ]
}